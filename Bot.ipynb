{
  "nbformat": 4,
  "nbformat_minor": 0,
  "metadata": {
    "language_info": {
      "name": "python",
      "codemirror_mode": {
        "name": "ipython",
        "version": 3
      },
      "version": "3.7.6-final"
    },
    "orig_nbformat": 2,
    "file_extension": ".py",
    "mimetype": "text/x-python",
    "name": "python",
    "npconvert_exporter": "python",
    "pygments_lexer": "ipython3",
    "version": 3,
    "kernelspec": {
      "name": "python37632bitbasecondaf75d880cb4ab41bea9d5c150d19fe89b",
      "display_name": "Python 3.7.6 32-bit ('base': conda)"
    },
    "colab": {
      "name": "Bot.ipynb",
      "provenance": [],
      "collapsed_sections": [
        "JfxyyuzZcgKv"
      ]
    }
  },
  "cells": [
    {
      "cell_type": "markdown",
      "metadata": {
        "id": "WEluY-xhcgJ3",
        "colab_type": "text"
      },
      "source": [
        "# BOTS \n",
        "## Yan Yan "
      ]
    },
    {
      "cell_type": "code",
      "metadata": {
        "id": "u3QETq1qcgoC",
        "colab_type": "code",
        "colab": {}
      },
      "source": [
        ""
      ],
      "execution_count": 0,
      "outputs": []
    },
    {
      "cell_type": "markdown",
      "metadata": {
        "id": "lFw81lJxcgJ6",
        "colab_type": "text"
      },
      "source": [
        "## PubMed"
      ]
    },
    {
      "cell_type": "code",
      "metadata": {
        "id": "rJM3tQvAcgJ8",
        "colab_type": "code",
        "colab": {}
      },
      "source": [
        "# Set the PubMed api key as environmental variable \n",
        "import os \n",
        "os.environ['NCBI_API_KEY'] = '86dfb48fed914a40e340d1c57134034c9108'"
      ],
      "execution_count": 0,
      "outputs": []
    },
    {
      "cell_type": "code",
      "metadata": {
        "id": "wQ0-8QNbcgKA",
        "colab_type": "code",
        "colab": {
          "base_uri": "https://localhost:8080/",
          "height": 1000
        },
        "outputId": "3b489569-e539-4b83-ab86-a3239908bc76"
      },
      "source": [
        "import time \n",
        "from time import sleep\n",
        "import resource\n",
        "\n",
        "%matplotlib inline\n",
        "import matplotlib.pyplot as plt\n",
        "\n",
        "import numpy as np\n",
        "import pandas as pd\n",
        "import seaborn as sns\n",
        "\n",
        "!pip install biopython \n",
        "from Bio import Entrez\n",
        "Entrez.email = \"yan.yan.yy5@contractors.roche.com\"\n",
        "\n",
        "!pip install metapub\n",
        "import metapub as pm\n",
        "fetch = pm.PubMedFetcher()\n",
        "\n",
        "!pip install git+git://github.com/titipata/pubmed_parser.git\n",
        "import pubmed_parser"
      ],
      "execution_count": 11,
      "outputs": [
        {
          "output_type": "stream",
          "text": [
            "Requirement already satisfied: biopython in /usr/local/lib/python3.6/dist-packages (1.76)\n",
            "Requirement already satisfied: numpy in /usr/local/lib/python3.6/dist-packages (from biopython) (1.18.3)\n",
            "Requirement already satisfied: metapub in /usr/local/lib/python3.6/dist-packages (0.5.5)\n",
            "Requirement already satisfied: habanero in /usr/local/lib/python3.6/dist-packages (from metapub) (0.7.2)\n",
            "Requirement already satisfied: setuptools in /usr/local/lib/python3.6/dist-packages (from metapub) (46.1.3)\n",
            "Requirement already satisfied: requests in /usr/local/lib/python3.6/dist-packages (from metapub) (2.23.0)\n",
            "Requirement already satisfied: eutils in /usr/local/lib/python3.6/dist-packages (from metapub) (0.6.0)\n",
            "Requirement already satisfied: pytest in /usr/local/lib/python3.6/dist-packages (from metapub) (3.6.4)\n",
            "Requirement already satisfied: coloredlogs in /usr/local/lib/python3.6/dist-packages (from metapub) (14.0)\n",
            "Requirement already satisfied: unidecode in /usr/local/lib/python3.6/dist-packages (from metapub) (1.1.1)\n",
            "Requirement already satisfied: six in /usr/local/lib/python3.6/dist-packages (from metapub) (1.12.0)\n",
            "Requirement already satisfied: cssselect in /usr/local/lib/python3.6/dist-packages (from metapub) (1.1.0)\n",
            "Requirement already satisfied: docopt in /usr/local/lib/python3.6/dist-packages (from metapub) (0.6.2)\n",
            "Requirement already satisfied: lxml in /usr/local/lib/python3.6/dist-packages (from metapub) (4.2.6)\n",
            "Requirement already satisfied: tox in /usr/local/lib/python3.6/dist-packages (from metapub) (3.15.0)\n",
            "Requirement already satisfied: python-Levenshtein in /usr/local/lib/python3.6/dist-packages (from metapub) (0.12.0)\n",
            "Requirement already satisfied: tabulate in /usr/local/lib/python3.6/dist-packages (from metapub) (0.8.7)\n",
            "Requirement already satisfied: tqdm in /usr/local/lib/python3.6/dist-packages (from habanero->metapub) (4.38.0)\n",
            "Requirement already satisfied: idna<3,>=2.5 in /usr/local/lib/python3.6/dist-packages (from requests->metapub) (2.9)\n",
            "Requirement already satisfied: chardet<4,>=3.0.2 in /usr/local/lib/python3.6/dist-packages (from requests->metapub) (3.0.4)\n",
            "Requirement already satisfied: certifi>=2017.4.17 in /usr/local/lib/python3.6/dist-packages (from requests->metapub) (2020.4.5.1)\n",
            "Requirement already satisfied: urllib3!=1.25.0,!=1.25.1,<1.26,>=1.21.1 in /usr/local/lib/python3.6/dist-packages (from requests->metapub) (1.24.3)\n",
            "Requirement already satisfied: pytz in /usr/local/lib/python3.6/dist-packages (from eutils->metapub) (2018.9)\n",
            "Requirement already satisfied: py>=1.5.0 in /usr/local/lib/python3.6/dist-packages (from pytest->metapub) (1.8.1)\n",
            "Requirement already satisfied: pluggy<0.8,>=0.5 in /usr/local/lib/python3.6/dist-packages (from pytest->metapub) (0.7.1)\n",
            "Requirement already satisfied: more-itertools>=4.0.0 in /usr/local/lib/python3.6/dist-packages (from pytest->metapub) (8.2.0)\n",
            "Requirement already satisfied: attrs>=17.4.0 in /usr/local/lib/python3.6/dist-packages (from pytest->metapub) (19.3.0)\n",
            "Requirement already satisfied: atomicwrites>=1.0 in /usr/local/lib/python3.6/dist-packages (from pytest->metapub) (1.4.0)\n",
            "Requirement already satisfied: humanfriendly>=7.1 in /usr/local/lib/python3.6/dist-packages (from coloredlogs->metapub) (8.2)\n",
            "Requirement already satisfied: virtualenv!=20.0.0,!=20.0.1,!=20.0.2,!=20.0.3,!=20.0.4,!=20.0.5,!=20.0.6,!=20.0.7,>=16.0.0 in /usr/local/lib/python3.6/dist-packages (from tox->metapub) (20.0.20)\n",
            "Requirement already satisfied: filelock<4,>=3.0.0 in /usr/local/lib/python3.6/dist-packages (from tox->metapub) (3.0.12)\n",
            "Requirement already satisfied: packaging>=14 in /usr/local/lib/python3.6/dist-packages (from tox->metapub) (20.3)\n",
            "Requirement already satisfied: toml>=0.9.4 in /usr/local/lib/python3.6/dist-packages (from tox->metapub) (0.10.0)\n",
            "Requirement already satisfied: importlib-metadata<2,>=0.12; python_version < \"3.8\" in /usr/local/lib/python3.6/dist-packages (from tox->metapub) (1.6.0)\n",
            "Requirement already satisfied: appdirs<2,>=1.4.3 in /usr/local/lib/python3.6/dist-packages (from virtualenv!=20.0.0,!=20.0.1,!=20.0.2,!=20.0.3,!=20.0.4,!=20.0.5,!=20.0.6,!=20.0.7,>=16.0.0->tox->metapub) (1.4.3)\n",
            "Requirement already satisfied: importlib-resources<2,>=1.0; python_version < \"3.7\" in /usr/local/lib/python3.6/dist-packages (from virtualenv!=20.0.0,!=20.0.1,!=20.0.2,!=20.0.3,!=20.0.4,!=20.0.5,!=20.0.6,!=20.0.7,>=16.0.0->tox->metapub) (1.5.0)\n",
            "Requirement already satisfied: distlib<1,>=0.3.0 in /usr/local/lib/python3.6/dist-packages (from virtualenv!=20.0.0,!=20.0.1,!=20.0.2,!=20.0.3,!=20.0.4,!=20.0.5,!=20.0.6,!=20.0.7,>=16.0.0->tox->metapub) (0.3.0)\n",
            "Requirement already satisfied: pyparsing>=2.0.2 in /usr/local/lib/python3.6/dist-packages (from packaging>=14->tox->metapub) (2.4.7)\n",
            "Requirement already satisfied: zipp>=0.5 in /usr/local/lib/python3.6/dist-packages (from importlib-metadata<2,>=0.12; python_version < \"3.8\"->tox->metapub) (3.1.0)\n",
            "Collecting git+git://github.com/titipata/pubmed_parser.git\n",
            "  Cloning git://github.com/titipata/pubmed_parser.git to /tmp/pip-req-build-wf90m0n7\n",
            "  Running command git clone -q git://github.com/titipata/pubmed_parser.git /tmp/pip-req-build-wf90m0n7\n",
            "Requirement already satisfied (use --upgrade to upgrade): pubmed-parser==0.2.2 from git+git://github.com/titipata/pubmed_parser.git in /usr/local/lib/python3.6/dist-packages\n",
            "Requirement already satisfied: lxml in /usr/local/lib/python3.6/dist-packages (from pubmed-parser==0.2.2) (4.2.6)\n",
            "Requirement already satisfied: unidecode in /usr/local/lib/python3.6/dist-packages (from pubmed-parser==0.2.2) (1.1.1)\n",
            "Requirement already satisfied: requests in /usr/local/lib/python3.6/dist-packages (from pubmed-parser==0.2.2) (2.23.0)\n",
            "Requirement already satisfied: six in /usr/local/lib/python3.6/dist-packages (from pubmed-parser==0.2.2) (1.12.0)\n",
            "Requirement already satisfied: numpy in /usr/local/lib/python3.6/dist-packages (from pubmed-parser==0.2.2) (1.18.3)\n",
            "Requirement already satisfied: pytest in /usr/local/lib/python3.6/dist-packages (from pubmed-parser==0.2.2) (3.6.4)\n",
            "Requirement already satisfied: pytest-cov in /usr/local/lib/python3.6/dist-packages (from pubmed-parser==0.2.2) (2.8.1)\n",
            "Requirement already satisfied: chardet<4,>=3.0.2 in /usr/local/lib/python3.6/dist-packages (from requests->pubmed-parser==0.2.2) (3.0.4)\n",
            "Requirement already satisfied: urllib3!=1.25.0,!=1.25.1,<1.26,>=1.21.1 in /usr/local/lib/python3.6/dist-packages (from requests->pubmed-parser==0.2.2) (1.24.3)\n",
            "Requirement already satisfied: idna<3,>=2.5 in /usr/local/lib/python3.6/dist-packages (from requests->pubmed-parser==0.2.2) (2.9)\n",
            "Requirement already satisfied: certifi>=2017.4.17 in /usr/local/lib/python3.6/dist-packages (from requests->pubmed-parser==0.2.2) (2020.4.5.1)\n",
            "Requirement already satisfied: attrs>=17.4.0 in /usr/local/lib/python3.6/dist-packages (from pytest->pubmed-parser==0.2.2) (19.3.0)\n",
            "Requirement already satisfied: more-itertools>=4.0.0 in /usr/local/lib/python3.6/dist-packages (from pytest->pubmed-parser==0.2.2) (8.2.0)\n",
            "Requirement already satisfied: atomicwrites>=1.0 in /usr/local/lib/python3.6/dist-packages (from pytest->pubmed-parser==0.2.2) (1.4.0)\n",
            "Requirement already satisfied: py>=1.5.0 in /usr/local/lib/python3.6/dist-packages (from pytest->pubmed-parser==0.2.2) (1.8.1)\n",
            "Requirement already satisfied: setuptools in /usr/local/lib/python3.6/dist-packages (from pytest->pubmed-parser==0.2.2) (46.1.3)\n",
            "Requirement already satisfied: pluggy<0.8,>=0.5 in /usr/local/lib/python3.6/dist-packages (from pytest->pubmed-parser==0.2.2) (0.7.1)\n",
            "Requirement already satisfied: coverage>=4.4 in /usr/local/lib/python3.6/dist-packages (from pytest-cov->pubmed-parser==0.2.2) (5.1)\n",
            "Building wheels for collected packages: pubmed-parser\n",
            "  Building wheel for pubmed-parser (setup.py) ... \u001b[?25l\u001b[?25hdone\n",
            "  Created wheel for pubmed-parser: filename=pubmed_parser-0.2.2-cp36-none-any.whl size=18163 sha256=0b5654dc9aab2dbd9a7541cba799f5edeb4d5a2714c170ff03d39e394949f848\n",
            "  Stored in directory: /tmp/pip-ephem-wheel-cache-ps_60xph/wheels/f5/4c/84/40073501015d7126a260f0cdae4ebae8a37e8e480ee36ff9ce\n",
            "Successfully built pubmed-parser\n"
          ],
          "name": "stdout"
        }
      ]
    },
    {
      "cell_type": "code",
      "metadata": {
        "id": "SYQx_hDvcgKE",
        "colab_type": "code",
        "colab": {},
        "outputId": "52d31272-f994-475c-ab14-3bb3dc9c2104"
      },
      "source": [
        "# Time & Memory calculation START \n",
        "time_start = time.perf_counter()\n",
        "# insert code here ...\n",
        "#time_elapsed = (time.perf_counter() - time_start)\n",
        "#memMb=resource.getrusage(resource.RUSAGE_SELF).ru_maxrss/1024.0/1024.0\n",
        "#print (\"%5.1f secs %5.1f MByte\" % (time_elapsed,memMb))"
      ],
      "execution_count": 0,
      "outputs": [
        {
          "output_type": "stream",
          "text": [
            "0.0 secs 218.2 MByte\n"
          ],
          "name": "stdout"
        }
      ]
    },
    {
      "cell_type": "code",
      "metadata": {
        "id": "Fnbs1nZ7cgKI",
        "colab_type": "code",
        "colab": {}
      },
      "source": [
        "# Function to scrap pmids from Pudmed based on individuals' name \n",
        "def get_pmids(name_list):\n",
        "    name_pmid = {}\n",
        "    for name in name_list:\n",
        "      pmid = fetch.pmids_for_query(name+'[au]')\n",
        "      if pmid != []: # Function won't stroed the name with no pmid associated \n",
        "        name_pmid[name] = pmid # Can add other properties after \n",
        "      sleep(.35)\n",
        "    return name_pmid"
      ],
      "execution_count": 0,
      "outputs": []
    },
    {
      "cell_type": "code",
      "metadata": {
        "id": "Cqu-UxRPcgKL",
        "colab_type": "code",
        "colab": {},
        "outputId": "e274cecf-9da5-46e9-b949-9055d34a25b0"
      },
      "source": [
        "# Possible way to filter unrelevent results \n",
        "Test = ['Rakesh Joshi','Rakesh Joshi, Western'] # Adding one more feature describing the individual gives a filtered reuslt \n",
        "pmids = get_pmids(Test)\n",
        "print(pmids)\n",
        "print(\"The number of record searching 'Rakesh Joshi' is {}\".format (len(pmids['Rakesh Joshi'])))\n",
        "print(\"The number of record searching 'Rakesh Joshi, Western' is {}\".format (len(pmids['Rakesh Joshi, Western'])))"
      ],
      "execution_count": 0,
      "outputs": [
        {
          "output_type": "stream",
          "text": [
            "{'Rakesh Joshi': ['32329408', '32313805', '32225631', '32181550', '31873380', '31806702', '31594465', '31361022', '31358189', '31077794', '31038412', '30657252', '30457142', '30431205', '30345081', '30316316', '30052167', '30023541', '29880902', '29752722', '29684526', '29516095', '29486250', '29412176', '29307090', '29126020', '28878498', '28451296', '27941954', '27109704', '27519164', '27074628', '28930116', '26739611', '26615882', '26375725', '26210259', '26159435', '26023493', '25990982', '25839136', '25829670', '25269396', '25159848', '25141174', '24559910', '24557906', '24550280', '26023464', '26023459', '23891708', '23862445', '23519100', '23261428', '23256852', '23134684', '23118466', '22873702', '21029741', '20521554', '20388979', '19181254', '20596429', '21825812', '18283803', '18262128', '21217915', '15524602'], 'Rakesh Joshi, Western': []}\n",
            "The number of record searching 'Rakesh Joshi' is 68\n",
            "The number of record searching 'Rakesh Joshi, Western' is 0\n"
          ],
          "name": "stdout"
        }
      ]
    },
    {
      "cell_type": "code",
      "metadata": {
        "id": "uRllMReVcgKR",
        "colab_type": "code",
        "colab": {},
        "outputId": "527569a1-b21e-4c3a-f726-f1f706d6e281"
      },
      "source": [
        "# Scarp the key words for a certain article based on pmid \n",
        "keywords = pubmed_parser.parse_xml_web('30431205', sleep=0.35)['keywords'] \n",
        "topics = keywords.split(sep=';')\n",
        "topics "
      ],
      "execution_count": 0,
      "outputs": [
        {
          "output_type": "execute_result",
          "data": {
            "text/plain": [
              "['D006367:HeLa Cells',\n",
              " 'D006801:Humans',\n",
              " 'D013058:Mass Spectrometry',\n",
              " 'D010750:Phosphoproteins',\n",
              " 'D019000:Phosphotyrosine',\n",
              " 'D015202:Protein Engineering',\n",
              " 'D017433:Protein Structure, Secondary',\n",
              " 'D020543:Proteome',\n",
              " 'D018909:src Homology Domains']"
            ]
          },
          "metadata": {
            "tags": []
          },
          "execution_count": 78
        }
      ]
    },
    {
      "cell_type": "code",
      "metadata": {
        "tags": [
          "outputPrepend",
          "outputPrepend",
          "outputPrepend"
        ],
        "id": "kPMcBLUpcgKU",
        "colab_type": "code",
        "colab": {}
      },
      "source": [
        "# get individuals' research topics (i.e. find all keywords of a individual) stored in a separate dict \n",
        "def get_research_topics(pmids): #use the result from get_pmid\n",
        "    name_topic = {}\n",
        "    for name in pmids:\n",
        "        topic_list = []\n",
        "        for pmid in pmids[name]:\n",
        "            # Scarp the key words for a certain article based on pmid \n",
        "            keywords = pubmed_parser.parse_xml_web(pmid, sleep=0.35)['keywords']  \n",
        "            topics = keywords.split(sep=';')\n",
        "            for topic in topics:\n",
        "                if topic not in topic_list:\n",
        "                     topic_list.append(topic)\n",
        "        if topic_list != []:\n",
        "          name_topic[name] = topic_list \n",
        "    #print(topic_list)\n",
        "    #pmids[name].append(topic_list)\n",
        "    #pmids[name] = tuple(pmids[name])\n",
        "    return name_topic  \n",
        "\n",
        "#Mesh was used as priority, can go into the library and change that part of the coded if needed "
      ],
      "execution_count": 0,
      "outputs": []
    },
    {
      "cell_type": "code",
      "metadata": {
        "id": "MaLxfOZQcgKY",
        "colab_type": "code",
        "colab": {},
        "outputId": "91dc250c-bf3c-4c1d-bcd9-77709d9f6fe8"
      },
      "source": [
        "# test for the function\n",
        "get_research_topics(pmids)"
      ],
      "execution_count": 0,
      "outputs": [
        {
          "output_type": "execute_result",
          "data": {
            "text/plain": [
              "{'Rakesh Joshi': ['COVID-19',\n",
              "  'Coronavirus',\n",
              "  'MPro',\n",
              "  'Multi-target-directed ligand',\n",
              "  'Protease inhibitor',\n",
              "  'RdRp',\n",
              "  'SARS-CoV-2 virus',\n",
              "  'hACE-2',\n",
              "  'graphene',\n",
              "  'graphene/polymer composites',\n",
              "  'protective clothing',\n",
              "  'textiles',\n",
              "  '',\n",
              "  'diffusion',\n",
              "  'molecular sieving',\n",
              "  'selectivity',\n",
              "  'C2 domain',\n",
              "  'Ras homolog gene family, member A (RhoA)',\n",
              "  'RhoGAP',\n",
              "  'SAM domain',\n",
              "  'breast cancer',\n",
              "  'cell migration',\n",
              "  'cell proliferation',\n",
              "  'deleted in liver cancer 1 (DLC1)',\n",
              "  'PD-1',\n",
              "  'T-cell exhaustion',\n",
              "  'immunotherapy',\n",
              "  'mir-149-3p',\n",
              "  'D001665:Binding Sites',\n",
              "  'D002853:Chromatography, Liquid',\n",
              "  'D005419:Flavonoids',\n",
              "  'D005960:Glucosides',\n",
              "  'D005964:Glucosyltransferases',\n",
              "  'D013058:Mass Spectrometry',\n",
              "  'D008958:Models, Molecular',\n",
              "  'D015394:Molecular Structure',\n",
              "  'D016297:Mutagenesis, Site-Directed',\n",
              "  'D015202:Protein Engineering',\n",
              "  'D013379:Substrate Specificity',\n",
              "  'D027843:Vitis',\n",
              "  'D000818:Animals',\n",
              "  'D001522:Behavior, Animal',\n",
              "  'D054884:Host-Pathogen Interactions',\n",
              "  'D007313:Insecta',\n",
              "  'D013312:Stress, Physiological',\n",
              "  'D013559:Symbiosis',\n",
              "  'D018406:Virus Physiological Phenomena',\n",
              "  'D014780:Viruses',\n",
              "  'D001681:Biological Assay',\n",
              "  'D018556:Crops, Agricultural',\n",
              "  'D007915:Lepidoptera',\n",
              "  'D010456:Peptides, Cyclic',\n",
              "  'D018515:Plant Leaves',\n",
              "  'D010940:Plant Proteins',\n",
              "  'D011480:Protease Inhibitors',\n",
              "  'Bt transgenic',\n",
              "  'Capsicum annuum',\n",
              "  'Helicoverpa armigera',\n",
              "  'NMR structure',\n",
              "  'Protease inhibitors (PIs)',\n",
              "  'inhibitory repeating domains',\n",
              "  '\\nEnterobacter cloacae\\n',\n",
              "  '\\nPlutella xylostella\\n',\n",
              "  'structural analysis',\n",
              "  'trehalase',\n",
              "  'validoxylamine A',\n",
              "  'D006367:HeLa Cells',\n",
              "  'D006801:Humans',\n",
              "  'D010750:Phosphoproteins',\n",
              "  'D019000:Phosphotyrosine',\n",
              "  'D017433:Protein Structure, Secondary',\n",
              "  'D020543:Proteome',\n",
              "  'D018909:src Homology Domains',\n",
              "  'D002648:Child',\n",
              "  'D014943:Global Health',\n",
              "  'D009017:Morbidity',\n",
              "  'D016730:Program Development',\n",
              "  'D014570:Urologic Diseases',\n",
              "  'D014572:Urology',\n",
              "  'Evolution',\n",
              "  'domain architecture',\n",
              "  ' structure',\n",
              "  ' trehalase',\n",
              "  'glycosyl hydrolase',\n",
              "  'sugar metabolism',\n",
              "  'D017209:Apoptosis',\n",
              "  'D006046:Gold',\n",
              "  'D006358:Hot Temperature',\n",
              "  'D006979:Hyperthermia, Induced',\n",
              "  'D008546:Melanoma, Experimental',\n",
              "  'D053768:Metal Nanoparticles',\n",
              "  'D051379:Mice',\n",
              "  'D009336:Necrosis',\n",
              "  'D010789:Phototherapy',\n",
              "  'D000951:Antigens, Neoplasm',\n",
              "  'D018827:Carcinoma, Lewis Lung',\n",
              "  'D002460:Cell Line',\n",
              "  'D045744:Cell Line, Tumor',\n",
              "  'D049109:Cell Proliferation',\n",
              "  'D003713:Dendritic Cells',\n",
              "  'D020868:Gene Silencing',\n",
              "  'D007167:Immunotherapy',\n",
              "  'D050503:Indoleamine-Pyrrole 2,3,-Dioxygenase',\n",
              "  'D008297:Male',\n",
              "  'D008565:Membrane Proteins',\n",
              "  'D008810:Mice, Inbred C57BL',\n",
              "  'D034741:RNA, Small Interfering',\n",
              "  'D003131:Combined Modality Therapy',\n",
              "  'D048049:Extracellular Signal-Regulated MAP Kinases',\n",
              "  'D005260:Female',\n",
              "  'D005492:Folic Acid',\n",
              "  'D048369:MAP Kinase Kinase 1',\n",
              "  'D043942:Nanotubes',\n",
              "  'D048493:Proto-Oncogene Proteins B-raf',\n",
              "  'D014407:Tumor Cells, Cultured',\n",
              "  'D001746:Bladder Exstrophy',\n",
              "  'D002675:Child, Preschool',\n",
              "  'D017281:Cost of Illness',\n",
              "  'D004842:Epispadias',\n",
              "  'D007194:India',\n",
              "  'D007391:International Cooperation',\n",
              "  'D008962:Models, Theoretical',\n",
              "  'D011446:Prospective Studies',\n",
              "  'D014481:United States',\n",
              "  'D013521:Urologic Surgical Procedures, Male',\n",
              "  'D019476:Insect Proteins',\n",
              "  'D007422:Intestines',\n",
              "  'D009036:Moths',\n",
              "  'D009842:Oligopeptides',\n",
              "  'D010447:Peptide Hydrolases',\n",
              "  'D000595:Amino Acid Sequence',\n",
              "  'D004339:Drug Compounding',\n",
              "  'D004357:Drug Synergism',\n",
              "  'D004791:Enzyme Inhibitors',\n",
              "  'D005247:Feeding Behavior',\n",
              "  'D006863:Hydrogen-Ion Concentration',\n",
              "  'D007294:Inositol',\n",
              "  'D007700:Kinetics',\n",
              "  'D010802:Phylogeny',\n",
              "  'D010938:Plant Oils',\n",
              "  'D052596:Pongamia',\n",
              "  'D000072417:Protein Domains',\n",
              "  'D012333:RNA, Messenger',\n",
              "  'D013696:Temperature',\n",
              "  'D014198:Trehalase',\n",
              "  'D000222:Adaptation, Physiological',\n",
              "  'D000383:Agriculture',\n",
              "  'D000073930:Biological Coevolution',\n",
              "  'D005658:Fungi',\n",
              "  'D010944:Plants',\n",
              "  'D002470:Cell Survival',\n",
              "  'D004305:Dose-Response Relationship, Drug',\n",
              "  'D005961:Glucosinolates',\n",
              "  'D008968:Molecular Conformation',\n",
              "  'D061987:Sf9 Cells',\n",
              "  'D018411:Spodoptera',\n",
              "  'D013329:Structure-Activity Relationship',\n",
              "  'C. annuum',\n",
              "  'CanPI7',\n",
              "  'H. armigera',\n",
              "  'Proteinase inhibitor',\n",
              "  'Transgenic tomato',\n",
              "  'D001483:Base Sequence',\n",
              "  'D003198:Computer Simulation',\n",
              "  'D044943:Fatty Acid Desaturases',\n",
              "  'D005227:Fatty Acids',\n",
              "  'D019597:Flax',\n",
              "  'D018506:Gene Expression Regulation, Plant',\n",
              "  'D014644:Genetic Variation',\n",
              "  'D006239:Haplotypes',\n",
              "  'D020033:Protein Isoforms',\n",
              "  'D013045:Species Specificity',\n",
              "  'D017962:alpha-Linolenic Acid',\n",
              "  'D000498:Allyl Compounds',\n",
              "  'D000840:Anisoles',\n",
              "  'D002934:Cinnamates',\n",
              "  'D017124:Conserved Sequence',\n",
              "  'D057075:Enzyme Assays',\n",
              "  'D005054:Eugenol',\n",
              "  'D008780:Methyltransferases',\n",
              "  'D062105:Molecular Docking Simulation',\n",
              "  'D056004:Molecular Dynamics Simulation',\n",
              "  'D031339:Ocimum',\n",
              "  'D044925:Oxidoreductases Acting on CH-CH Group Donors',\n",
              "  'D010636:Phenols',\n",
              "  'D011506:Proteins',\n",
              "  'D064210:Secondary Metabolism',\n",
              "  'D016415:Sequence Alignment',\n",
              "  'D000970:Antineoplastic Agents',\n",
              "  'D001562:Benzimidazoles',\n",
              "  'D002453:Cell Cycle',\n",
              "  'D004273:DNA, Neoplasm',\n",
              "  'D004354:Drug Screening Assays, Antitumor',\n",
              "  'D009705:Nucleosides',\n",
              "  'Bhutan',\n",
              "  'Himachal Pradesh',\n",
              "  'Jammu and Kashmir',\n",
              "  'Nepal',\n",
              "  'Sikkim',\n",
              "  'Uttarakhand',\n",
              "  'essential oils',\n",
              "  'D001786:Blood Glucose',\n",
              "  'D003921:Diabetes Mellitus, Experimental',\n",
              "  'D004353:Drug Evaluation, Preclinical',\n",
              "  'D006442:Glycated Hemoglobin A',\n",
              "  'D017127:Glycation End Products, Advanced',\n",
              "  'D065089:Glycoside Hydrolase Inhibitors',\n",
              "  'D006146:Guanidines',\n",
              "  'D008807:Mice, Inbred BALB C',\n",
              "  'D010936:Plant Extracts',\n",
              "  'D040901:Proteomics',\n",
              "  'D000276:Adjuvants, Immunologic',\n",
              "  'D060326:Chemistry Techniques, Synthetic',\n",
              "  'D016207:Cytokines',\n",
              "  'D006026:Glycoside Hydrolases',\n",
              "  'D050111:Imino Sugars',\n",
              "  'D054836:Indolizidines',\n",
              "  'D020128:Inhibitory Concentration 50',\n",
              "  'D009682:Magnetic Resonance Spectroscopy',\n",
              "  'D018417:Th1 Cells',\n",
              "  'D002403:Cathepsins',\n",
              "  'D007300:Insect Control',\n",
              "  'D005075:Biological Evolution',\n",
              "  'D004463:Ecology',\n",
              "  'D018521:Plant Physiological Phenomena',\n",
              "  'Lung agenesis',\n",
              "  'Persistent cloaca',\n",
              "  'D017485:1-Deoxynojirimycin',\n",
              "  'D001384:Azetidines',\n",
              "  'D005087:Glucan 1,4-alpha-Glucosidase',\n",
              "  'D002236:Carbohydrate Conformation',\n",
              "  'D002240:Carbohydrate Sequence',\n",
              "  'D001616:beta-Galactosidase',\n",
              "  'Bracka repair',\n",
              "  'proximal hypospadias',\n",
              "  'two-stage repair',\n",
              "  'D002212:Capsicum',\n",
              "  'D005091:Exons',\n",
              "  'D007438:Introns',\n",
              "  'D011401:Promoter Regions, Genetic',\n",
              "  'D020169:Caspases',\n",
              "  'D015966:Gene Expression Regulation, Fungal',\n",
              "  'D024581:Glyceraldehyde-3-Phosphate Dehydrogenase (Phosphorylating)',\n",
              "  'D006861:Hydrogen Peroxide',\n",
              "  'D019216:Metals, Heavy',\n",
              "  'D050296:Microbial Viability',\n",
              "  'D010843:Pichia',\n",
              "  'D012441:Saccharomyces cerevisiae',\n",
              "  'D029701:Saccharomyces cerevisiae Proteins',\n",
              "  'D054712:Salinity',\n",
              "  'D015842:Serine Proteinase Inhibitors',\n",
              "  'D015398:Signal Transduction',\n",
              "  'D012965:Sodium Chloride',\n",
              "  'D000110:Acetylcholinesterase',\n",
              "  'D000544:Alzheimer Disease',\n",
              "  'D053829:Amyloid Precursor Protein Secretases',\n",
              "  'D016229:Amyloid beta-Peptides',\n",
              "  'D000928:Antidepressive Agents',\n",
              "  'D008024:Ligands',\n",
              "  'D011530:Protriptyline',\n",
              "  'D000898:Antibiosis',\n",
              "  'D002918:Chymotrypsin',\n",
              "  'D004068:Digestive System Physiological Phenomena',\n",
              "  'D015536:Down-Regulation',\n",
              "  'D011485:Protein Binding',\n",
              "  'D020449:Repetitive Sequences, Amino Acid',\n",
              "  'D014357:Trypsin',\n",
              "  'D015854:Up-Regulation',\n",
              "  'D001419:Bacteria',\n",
              "  'D053837:DNA Cleavage',\n",
              "  'D004720:Endonucleases',\n",
              "  'D015870:Gene Expression',\n",
              "  'D015723:Gene Library',\n",
              "  'D018390:Gene Targeting',\n",
              "  'D010957:Plasmids',\n",
              "  'D011993:Recombinant Fusion Proteins',\n",
              "  'D017104:Bacteriophage M13',\n",
              "  'D019295:Computational Biology',\n",
              "  'D017931:DNA Primers',\n",
              "  'D046228:Microarray Analysis',\n",
              "  'D054731:PDZ Domains',\n",
              "  'D019151:Peptide Library',\n",
              "  'D025941:Protein Interaction Mapping',\n",
              "  'Extra-hepatic biliary atresia',\n",
              "  'Intestinal malrotation',\n",
              "  'Polysplenia',\n",
              "  'Hirschsprung’s disease',\n",
              "  'Single stage surgery',\n",
              "  'Transanal pull through',\n",
              "  'D020134:Catalytic Domain',\n",
              "  'D017510:Protein Folding',\n",
              "  'D012694:Serine',\n",
              "  'D057057:Serine Proteases',\n",
              "  'Acetyltransferase',\n",
              "  'Antibiotic resistance',\n",
              "  'Mycobacterium tuberculosis',\n",
              "  'Network analysis',\n",
              "  'D002417:Cattle',\n",
              "  'D006023:Glycoproteins',\n",
              "  'D055550:Protein Stability',\n",
              "  'D011994:Recombinant Proteins',\n",
              "  'D014361:Trypsin Inhibitors',\n",
              "  'D004220:Disulfides',\n",
              "  'D006860:Hydrogen Bonding',\n",
              "  'D007814:Larva',\n",
              "  'D008969:Molecular Sequence Data',\n",
              "  'D017434:Protein Structure, Tertiary',\n",
              "  'D013816:Thermodynamics',\n",
              "  'D005947:Glucose',\n",
              "  'D007668:Kidney',\n",
              "  'D046988:Proteasome Endopeptidase Complex',\n",
              "  'D051381:Rats',\n",
              "  'D017208:Rats, Wistar',\n",
              "  'D013311:Streptozocin',\n",
              "  'D010880:Piperidines',\n",
              "  'D011759:Pyrrolidines',\n",
              "  'D019943:Amino Acid Substitution',\n",
              "  'D018360:Crystallography, X-Ray',\n",
              "  'D004247:DNA',\n",
              "  'D015252:Deoxyribonucleases, Type II Site-Specific',\n",
              "  'D019020:Directed Molecular Evolution',\n",
              "  'D050505:Mutant Proteins',\n",
              "  'D006180:Proton-Translocating ATPases',\n",
              "  'D000480:Alkynes',\n",
              "  'D019306:Artemisia',\n",
              "  'D002849:Chromatography, Gas',\n",
              "  'D008401:Gas Chromatography-Mass Spectrometry',\n",
              "  'D046448:Ice Cover',\n",
              "  'D009822:Oils, Volatile',\n",
              "  'D017097:Electric Impedance',\n",
              "  'D004563:Electrochemistry',\n",
              "  'D018625:Microscopy, Atomic Force',\n",
              "  'D046529:Microscopy, Electron, Transmission',\n",
              "  'D036103:Nanotechnology',\n",
              "  'D053770:Nanowires',\n",
              "  'D045663:Quantum Dots',\n",
              "  'D013053:Spectrophotometry',\n",
              "  'D001932:Brain Neoplasms',\n",
              "  'D021621:Imaging, Three-Dimensional',\n",
              "  'D011879:Radiotherapy Dosage',\n",
              "  'D011880:Radiotherapy Planning, Computer-Assisted',\n",
              "  'D020266:Radiotherapy, Conformal',\n",
              "  'D013679:Technology, Radiologic',\n",
              "  'D014057:Tomography, X-Ray Computed',\n",
              "  'D047368:Tumor Burden',\n",
              "  'D000328:Adult',\n",
              "  'D001822:Body Burden',\n",
              "  'D019300:Medical Errors',\n",
              "  'D008954:Models, Biological',\n",
              "  'D012062:Relative Biological Effectiveness',\n",
              "  'D014915:Whole-Body Counting',\n",
              "  'Breast cancer',\n",
              "  'cardiac dose',\n",
              "  'organ motion'],\n",
              " 'Rakesh Joshi, Western': ['C2 domain',\n",
              "  'Ras homolog gene family, member A (RhoA)',\n",
              "  'RhoGAP',\n",
              "  'SAM domain',\n",
              "  'breast cancer',\n",
              "  'cell migration',\n",
              "  'cell proliferation',\n",
              "  'deleted in liver cancer 1 (DLC1)',\n",
              "  'PD-1',\n",
              "  'T-cell exhaustion',\n",
              "  'immunotherapy',\n",
              "  'mir-149-3p',\n",
              "  'D006367:HeLa Cells',\n",
              "  'D006801:Humans',\n",
              "  'D013058:Mass Spectrometry',\n",
              "  'D010750:Phosphoproteins',\n",
              "  'D019000:Phosphotyrosine',\n",
              "  'D015202:Protein Engineering',\n",
              "  'D017433:Protein Structure, Secondary',\n",
              "  'D020543:Proteome',\n",
              "  'D018909:src Homology Domains',\n",
              "  '',\n",
              "  'D000818:Animals',\n",
              "  'D017209:Apoptosis',\n",
              "  'D006046:Gold',\n",
              "  'D006358:Hot Temperature',\n",
              "  'D006979:Hyperthermia, Induced',\n",
              "  'D008546:Melanoma, Experimental',\n",
              "  'D053768:Metal Nanoparticles',\n",
              "  'D051379:Mice',\n",
              "  'D009336:Necrosis',\n",
              "  'D010789:Phototherapy',\n",
              "  'D000951:Antigens, Neoplasm',\n",
              "  'D018827:Carcinoma, Lewis Lung',\n",
              "  'D002460:Cell Line',\n",
              "  'D045744:Cell Line, Tumor',\n",
              "  'D049109:Cell Proliferation',\n",
              "  'D003713:Dendritic Cells',\n",
              "  'D020868:Gene Silencing',\n",
              "  'D007167:Immunotherapy',\n",
              "  'D050503:Indoleamine-Pyrrole 2,3,-Dioxygenase',\n",
              "  'D008297:Male',\n",
              "  'D008565:Membrane Proteins',\n",
              "  'D008810:Mice, Inbred C57BL',\n",
              "  'D034741:RNA, Small Interfering',\n",
              "  'D003131:Combined Modality Therapy',\n",
              "  'D048049:Extracellular Signal-Regulated MAP Kinases',\n",
              "  'D005260:Female',\n",
              "  'D005492:Folic Acid',\n",
              "  'D048369:MAP Kinase Kinase 1',\n",
              "  'D043942:Nanotubes',\n",
              "  'D048493:Proto-Oncogene Proteins B-raf',\n",
              "  'D014407:Tumor Cells, Cultured',\n",
              "  'D001786:Blood Glucose',\n",
              "  'D003921:Diabetes Mellitus, Experimental',\n",
              "  'D004353:Drug Evaluation, Preclinical',\n",
              "  'D005054:Eugenol',\n",
              "  'D006442:Glycated Hemoglobin A',\n",
              "  'D017127:Glycation End Products, Advanced',\n",
              "  'D065089:Glycoside Hydrolase Inhibitors',\n",
              "  'D006146:Guanidines',\n",
              "  'D008807:Mice, Inbred BALB C',\n",
              "  'D031339:Ocimum',\n",
              "  'D010936:Plant Extracts',\n",
              "  'D040901:Proteomics',\n",
              "  'D001419:Bacteria',\n",
              "  'D053837:DNA Cleavage',\n",
              "  'D004720:Endonucleases',\n",
              "  'D015870:Gene Expression',\n",
              "  'D015723:Gene Library',\n",
              "  'D018390:Gene Targeting',\n",
              "  'D010957:Plasmids',\n",
              "  'D011993:Recombinant Fusion Proteins',\n",
              "  'D013379:Substrate Specificity']}"
            ]
          },
          "metadata": {
            "tags": []
          },
          "execution_count": 47
        }
      ]
    },
    {
      "cell_type": "code",
      "metadata": {
        "id": "V0Iu5bP9cgKd",
        "colab_type": "code",
        "colab": {},
        "outputId": "3f0a3443-b70c-4076-dbb6-b078a1cb3841"
      },
      "source": [
        "# Search for NCT number in Pubmed for individual \n",
        "name = 'Yujuan Zhang'\n",
        "pmid_nct = fetch.pmids_for_query('{}[au] AND clinicaltrials.gov[si]'.format(name))\n",
        "pmid_nct # Get the pmids that associated with a NCT number "
      ],
      "execution_count": 0,
      "outputs": [
        {
          "output_type": "execute_result",
          "data": {
            "text/plain": [
              "['32010057', '31080494']"
            ]
          },
          "metadata": {
            "tags": []
          },
          "execution_count": 8
        }
      ]
    },
    {
      "cell_type": "code",
      "metadata": {
        "id": "PSc8NdRIcgKi",
        "colab_type": "code",
        "colab": {}
      },
      "source": [
        "def nct_from_abstract(pmid):\n",
        "    handle = Entrez.efetch(db=\"pubmed\", id=pmid, rettype=\"abstract\", retmode=\"text\") # Read the abstract\n",
        "    abstract = handle.read()\n",
        "    nct_i = abstract.find(\"NCT\")\n",
        "    NCTnum = abstract[nct_i:nct_i+11]\n",
        "    return NCTnum"
      ],
      "execution_count": 0,
      "outputs": []
    },
    {
      "cell_type": "code",
      "metadata": {
        "id": "DnLTi4eScgKl",
        "colab_type": "code",
        "colab": {},
        "outputId": "82e8d83d-2605-405a-e39c-a20d6f89868e"
      },
      "source": [
        "# test for the function \n",
        "nct_from_abstract('32010057')"
      ],
      "execution_count": 0,
      "outputs": [
        {
          "output_type": "execute_result",
          "data": {
            "text/plain": [
              "'NCT02515903'"
            ]
          },
          "metadata": {
            "tags": []
          },
          "execution_count": 10
        }
      ]
    },
    {
      "cell_type": "code",
      "metadata": {
        "id": "UYF6rG96cgKp",
        "colab_type": "code",
        "colab": {}
      },
      "source": [
        "# Convert the NCT number in to a dict\n",
        "def get_nct_list(name_list):\n",
        "    name_nct = {}\n",
        "    # The function won't store the name if it is not associated with a nct \n",
        "    for name in name_list:\n",
        "        pmid_nct = fetch.pmids_for_query('{}[au] AND clinicaltrials.gov[si]'.format(name))\n",
        "        if pmid_nct != []:\n",
        "            nct_list = []\n",
        "            for pmid in pmid_nct:\n",
        "                nctnum = nct_from_abstract(pmid)\n",
        "                if nctnum not in nct_list:\n",
        "                    nct_list.append(nctnum)\n",
        "            name_nct[name] = nct_list \n",
        "    return name_nct "
      ],
      "execution_count": 0,
      "outputs": []
    },
    {
      "cell_type": "code",
      "metadata": {
        "id": "086KK6WQcgKs",
        "colab_type": "code",
        "colab": {},
        "outputId": "17f7296c-f7ef-4191-8aa0-15c564109c4b"
      },
      "source": [
        "# test for the function \n",
        "get_nct_list(['Yujuan Zhang'])"
      ],
      "execution_count": 0,
      "outputs": [
        {
          "output_type": "execute_result",
          "data": {
            "text/plain": [
              "{'Yujuan Zhang': ['NCT02515903']}"
            ]
          },
          "metadata": {
            "tags": []
          },
          "execution_count": 55
        }
      ]
    },
    {
      "cell_type": "markdown",
      "metadata": {
        "id": "JfxyyuzZcgKv",
        "colab_type": "text"
      },
      "source": [
        "## ClinicalTrials\n",
        "\n",
        "Can search NCT number in PubMed to locate the article, linkage \n",
        "\n",
        "To retrieve all records in PubMed that list trial registration in ClinicalTrials.gov, search: **\"clinicaltrials.gov [si]\"**"
      ]
    },
    {
      "cell_type": "code",
      "metadata": {
        "id": "GBDZZDh4cgKw",
        "colab_type": "code",
        "colab": {}
      },
      "source": [
        "import urllib, requests \n",
        "import json"
      ],
      "execution_count": 0,
      "outputs": []
    },
    {
      "cell_type": "code",
      "metadata": {
        "id": "engjZLAucgKz",
        "colab_type": "code",
        "colab": {}
      },
      "source": [
        "def decode_url(url):\n",
        "    f = urllib.request.urlopen(url)\n",
        "    raw_data = f.read()\n",
        "    raw_data = raw_data.decode(\"utf-8\")\n",
        "    return raw_data"
      ],
      "execution_count": 0,
      "outputs": []
    },
    {
      "cell_type": "code",
      "metadata": {
        "id": "_A0RL-0GcgK2",
        "colab_type": "code",
        "colab": {}
      },
      "source": [
        "def extract_nct(raw):\n",
        "    nct_num = []\n",
        "    url_dict = json.loads(raw)\n",
        "    nct_dict = url_dict['StudyFieldsResponse']['StudyFields']\n",
        "    for i in range(len(nct_dict)):\n",
        "        nct_num.append(nct_dict[i]['NCTId'][0])\n",
        "    return nct_num"
      ],
      "execution_count": 0,
      "outputs": []
    },
    {
      "cell_type": "code",
      "metadata": {
        "id": "pQpB6OyFcgK5",
        "colab_type": "code",
        "colab": {}
      },
      "source": [
        "def get_NCTId(name_list):\n",
        "    name_NCTId = {}\n",
        "    for name in name_list:\n",
        "        name1 = name.replace(' ', '+')\n",
        "        url = 'https://clinicaltrials.gov/api/query/study_fields?expr={}+&fields=NCTId&min_rnk=1&max_rnk=&fmt=json'.format(name1)\n",
        "        result = decode_url(url)\n",
        "        NCTId = extract_nct(result)\n",
        "        name_NCTId[name] = NCTId\n",
        "        sleep(.35)\n",
        "    return name_NCTId"
      ],
      "execution_count": 0,
      "outputs": []
    },
    {
      "cell_type": "code",
      "metadata": {
        "id": "KKQ3NzBLcgK9",
        "colab_type": "code",
        "colab": {},
        "outputId": "8ccc539b-e290-418d-c91a-32f7dde42e2f"
      },
      "source": [
        "NCTId = get_NCTId(['Rakesh Joshi'])\n",
        "NCTId"
      ],
      "execution_count": 0,
      "outputs": [
        {
          "output_type": "execute_result",
          "data": {
            "text/plain": [
              "{'Rakesh Joshi': ['NCT04086745', 'NCT02635438']}"
            ]
          },
          "metadata": {
            "tags": []
          },
          "execution_count": 20
        }
      ]
    },
    {
      "cell_type": "markdown",
      "metadata": {
        "id": "zqFhNYc6cgLA",
        "colab_type": "text"
      },
      "source": [
        "## Sample Result Visulization "
      ]
    },
    {
      "cell_type": "code",
      "metadata": {
        "id": "q1IH3pbLcgLB",
        "colab_type": "code",
        "colab": {}
      },
      "source": [
        "Test_Names = ['Rakesh Joshi', 'Hjalmar Turesson', 'Yu Shrike Zhang', 'Yujuan Zhang']\n",
        "pmids = get_pmids(Test_Names)"
      ],
      "execution_count": 0,
      "outputs": []
    },
    {
      "cell_type": "code",
      "metadata": {
        "id": "IrEniC-IcgLD",
        "colab_type": "code",
        "colab": {}
      },
      "source": [
        "#Build a Matrix for co-authorship \n",
        "def get_matrix(info_dict): # Use the result from get_pmids \n",
        "    con_matrix = np.zeros((len(info_dict), len(info_dict)), dtype=int)\n",
        "    for i, name1 in enumerate(info_dict):\n",
        "        for j, name2 in enumerate(info_dict):\n",
        "            con_matrix[i, j] = len(set(info_dict[name1]).intersection(set(info_dict[name2]))) \n",
        "    return con_matrix "
      ],
      "execution_count": 0,
      "outputs": []
    },
    {
      "cell_type": "code",
      "metadata": {
        "id": "atxYTq9mcgLF",
        "colab_type": "code",
        "colab": {}
      },
      "source": [
        "# Test for the function \n",
        "coauther_matrix=get_matrix(pmids)"
      ],
      "execution_count": 0,
      "outputs": []
    },
    {
      "cell_type": "code",
      "metadata": {
        "id": "orFht895cgLH",
        "colab_type": "code",
        "colab": {
          "base_uri": "https://localhost:8080/",
          "height": 171
        },
        "outputId": "eaee5381-303c-4429-dff1-c62f7054950f"
      },
      "source": [
        "coauther = pd.DataFrame(data=coauther_matrix, index=Test_Names, columns=Test_Names)\n",
        "coauther"
      ],
      "execution_count": 75,
      "outputs": [
        {
          "output_type": "execute_result",
          "data": {
            "text/html": [
              "<div>\n",
              "<style scoped>\n",
              "    .dataframe tbody tr th:only-of-type {\n",
              "        vertical-align: middle;\n",
              "    }\n",
              "\n",
              "    .dataframe tbody tr th {\n",
              "        vertical-align: top;\n",
              "    }\n",
              "\n",
              "    .dataframe thead th {\n",
              "        text-align: right;\n",
              "    }\n",
              "</style>\n",
              "<table border=\"1\" class=\"dataframe\">\n",
              "  <thead>\n",
              "    <tr style=\"text-align: right;\">\n",
              "      <th></th>\n",
              "      <th>Rakesh Joshi</th>\n",
              "      <th>Hjalmar Turesson</th>\n",
              "      <th>Yu Shrike Zhang</th>\n",
              "      <th>Yujuan Zhang</th>\n",
              "    </tr>\n",
              "  </thead>\n",
              "  <tbody>\n",
              "    <tr>\n",
              "      <th>Rakesh Joshi</th>\n",
              "      <td>68</td>\n",
              "      <td>0</td>\n",
              "      <td>1</td>\n",
              "      <td>5</td>\n",
              "    </tr>\n",
              "    <tr>\n",
              "      <th>Hjalmar Turesson</th>\n",
              "      <td>0</td>\n",
              "      <td>8</td>\n",
              "      <td>0</td>\n",
              "      <td>0</td>\n",
              "    </tr>\n",
              "    <tr>\n",
              "      <th>Yu Shrike Zhang</th>\n",
              "      <td>1</td>\n",
              "      <td>0</td>\n",
              "      <td>134</td>\n",
              "      <td>1</td>\n",
              "    </tr>\n",
              "    <tr>\n",
              "      <th>Yujuan Zhang</th>\n",
              "      <td>5</td>\n",
              "      <td>0</td>\n",
              "      <td>1</td>\n",
              "      <td>117</td>\n",
              "    </tr>\n",
              "  </tbody>\n",
              "</table>\n",
              "</div>"
            ],
            "text/plain": [
              "                  Rakesh Joshi  Hjalmar Turesson  Yu Shrike Zhang  Yujuan Zhang\n",
              "Rakesh Joshi                68                 0                1             5\n",
              "Hjalmar Turesson             0                 8                0             0\n",
              "Yu Shrike Zhang              1                 0              134             1\n",
              "Yujuan Zhang                 5                 0                1           117"
            ]
          },
          "metadata": {
            "tags": []
          },
          "execution_count": 75
        }
      ]
    },
    {
      "cell_type": "code",
      "metadata": {
        "id": "5KMCh5JNcgLK",
        "colab_type": "code",
        "colab": {
          "base_uri": "https://localhost:8080/",
          "height": 171
        },
        "outputId": "1c274fc0-3b1e-4be1-d1ce-727d474129f8"
      },
      "source": [
        "np.fill_diagonal(coauther.values, 0)\n",
        "coauther"
      ],
      "execution_count": 76,
      "outputs": [
        {
          "output_type": "execute_result",
          "data": {
            "text/html": [
              "<div>\n",
              "<style scoped>\n",
              "    .dataframe tbody tr th:only-of-type {\n",
              "        vertical-align: middle;\n",
              "    }\n",
              "\n",
              "    .dataframe tbody tr th {\n",
              "        vertical-align: top;\n",
              "    }\n",
              "\n",
              "    .dataframe thead th {\n",
              "        text-align: right;\n",
              "    }\n",
              "</style>\n",
              "<table border=\"1\" class=\"dataframe\">\n",
              "  <thead>\n",
              "    <tr style=\"text-align: right;\">\n",
              "      <th></th>\n",
              "      <th>Rakesh Joshi</th>\n",
              "      <th>Hjalmar Turesson</th>\n",
              "      <th>Yu Shrike Zhang</th>\n",
              "      <th>Yujuan Zhang</th>\n",
              "    </tr>\n",
              "  </thead>\n",
              "  <tbody>\n",
              "    <tr>\n",
              "      <th>Rakesh Joshi</th>\n",
              "      <td>0</td>\n",
              "      <td>0</td>\n",
              "      <td>1</td>\n",
              "      <td>5</td>\n",
              "    </tr>\n",
              "    <tr>\n",
              "      <th>Hjalmar Turesson</th>\n",
              "      <td>0</td>\n",
              "      <td>0</td>\n",
              "      <td>0</td>\n",
              "      <td>0</td>\n",
              "    </tr>\n",
              "    <tr>\n",
              "      <th>Yu Shrike Zhang</th>\n",
              "      <td>1</td>\n",
              "      <td>0</td>\n",
              "      <td>0</td>\n",
              "      <td>1</td>\n",
              "    </tr>\n",
              "    <tr>\n",
              "      <th>Yujuan Zhang</th>\n",
              "      <td>5</td>\n",
              "      <td>0</td>\n",
              "      <td>1</td>\n",
              "      <td>0</td>\n",
              "    </tr>\n",
              "  </tbody>\n",
              "</table>\n",
              "</div>"
            ],
            "text/plain": [
              "                  Rakesh Joshi  Hjalmar Turesson  Yu Shrike Zhang  Yujuan Zhang\n",
              "Rakesh Joshi                 0                 0                1             5\n",
              "Hjalmar Turesson             0                 0                0             0\n",
              "Yu Shrike Zhang              1                 0                0             1\n",
              "Yujuan Zhang                 5                 0                1             0"
            ]
          },
          "metadata": {
            "tags": []
          },
          "execution_count": 76
        }
      ]
    },
    {
      "cell_type": "code",
      "metadata": {
        "id": "gjz96Jp8cgLN",
        "colab_type": "code",
        "colab": {
          "base_uri": "https://localhost:8080/",
          "height": 433
        },
        "outputId": "9c568b0e-3bf9-4bb4-c223-913a4ca7f872"
      },
      "source": [
        "mask = np.zeros_like(coauther, dtype=np.int)\n",
        "mask[np.triu_indices_from(mask)] = True\n",
        "sns.heatmap(coauther, mask=mask, annot=True, fmt=\"d\", cmap=\"YlGnBu\")"
      ],
      "execution_count": 77,
      "outputs": [
        {
          "output_type": "error",
          "ename": "TypeError",
          "evalue": "ignored",
          "traceback": [
            "\u001b[0;31m---------------------------------------------------------------------------\u001b[0m",
            "\u001b[0;31mValueError\u001b[0m                                Traceback (most recent call last)",
            "\u001b[0;32m/usr/local/lib/python3.6/dist-packages/numpy/ma/core.py\u001b[0m in \u001b[0;36m_check_fill_value\u001b[0;34m(fill_value, ndtype)\u001b[0m\n\u001b[1;32m    472\u001b[0m             \u001b[0;32mtry\u001b[0m\u001b[0;34m:\u001b[0m\u001b[0;34m\u001b[0m\u001b[0;34m\u001b[0m\u001b[0m\n\u001b[0;32m--> 473\u001b[0;31m                 \u001b[0mfill_value\u001b[0m \u001b[0;34m=\u001b[0m \u001b[0mnp\u001b[0m\u001b[0;34m.\u001b[0m\u001b[0marray\u001b[0m\u001b[0;34m(\u001b[0m\u001b[0mfill_value\u001b[0m\u001b[0;34m,\u001b[0m \u001b[0mcopy\u001b[0m\u001b[0;34m=\u001b[0m\u001b[0;32mFalse\u001b[0m\u001b[0;34m,\u001b[0m \u001b[0mdtype\u001b[0m\u001b[0;34m=\u001b[0m\u001b[0mndtype\u001b[0m\u001b[0;34m)\u001b[0m\u001b[0;34m\u001b[0m\u001b[0;34m\u001b[0m\u001b[0m\n\u001b[0m\u001b[1;32m    474\u001b[0m             \u001b[0;32mexcept\u001b[0m \u001b[0;34m(\u001b[0m\u001b[0mOverflowError\u001b[0m\u001b[0;34m,\u001b[0m \u001b[0mValueError\u001b[0m\u001b[0;34m)\u001b[0m\u001b[0;34m:\u001b[0m\u001b[0;34m\u001b[0m\u001b[0;34m\u001b[0m\u001b[0m\n",
            "\u001b[0;31mValueError\u001b[0m: cannot convert float NaN to integer",
            "\nDuring handling of the above exception, another exception occurred:\n",
            "\u001b[0;31mTypeError\u001b[0m                                 Traceback (most recent call last)",
            "\u001b[0;32m<ipython-input-77-e67e51bc8822>\u001b[0m in \u001b[0;36m<module>\u001b[0;34m()\u001b[0m\n\u001b[1;32m      1\u001b[0m \u001b[0mmask\u001b[0m \u001b[0;34m=\u001b[0m \u001b[0mnp\u001b[0m\u001b[0;34m.\u001b[0m\u001b[0mzeros_like\u001b[0m\u001b[0;34m(\u001b[0m\u001b[0mcoauther\u001b[0m\u001b[0;34m,\u001b[0m \u001b[0mdtype\u001b[0m\u001b[0;34m=\u001b[0m\u001b[0mnp\u001b[0m\u001b[0;34m.\u001b[0m\u001b[0mint\u001b[0m\u001b[0;34m)\u001b[0m\u001b[0;34m\u001b[0m\u001b[0;34m\u001b[0m\u001b[0m\n\u001b[1;32m      2\u001b[0m \u001b[0mmask\u001b[0m\u001b[0;34m[\u001b[0m\u001b[0mnp\u001b[0m\u001b[0;34m.\u001b[0m\u001b[0mtriu_indices_from\u001b[0m\u001b[0;34m(\u001b[0m\u001b[0mmask\u001b[0m\u001b[0;34m)\u001b[0m\u001b[0;34m]\u001b[0m \u001b[0;34m=\u001b[0m \u001b[0;32mTrue\u001b[0m\u001b[0;34m\u001b[0m\u001b[0;34m\u001b[0m\u001b[0m\n\u001b[0;32m----> 3\u001b[0;31m \u001b[0msns\u001b[0m\u001b[0;34m.\u001b[0m\u001b[0mheatmap\u001b[0m\u001b[0;34m(\u001b[0m\u001b[0mcoauther\u001b[0m\u001b[0;34m,\u001b[0m \u001b[0mmask\u001b[0m\u001b[0;34m=\u001b[0m\u001b[0mmask\u001b[0m\u001b[0;34m,\u001b[0m \u001b[0mannot\u001b[0m\u001b[0;34m=\u001b[0m\u001b[0;32mTrue\u001b[0m\u001b[0;34m,\u001b[0m \u001b[0mfmt\u001b[0m\u001b[0;34m=\u001b[0m\u001b[0;34m\"d\"\u001b[0m\u001b[0;34m,\u001b[0m \u001b[0mcmap\u001b[0m\u001b[0;34m=\u001b[0m\u001b[0;34m\"YlGnBu\"\u001b[0m\u001b[0;34m)\u001b[0m\u001b[0;34m\u001b[0m\u001b[0;34m\u001b[0m\u001b[0m\n\u001b[0m",
            "\u001b[0;32m/usr/local/lib/python3.6/dist-packages/seaborn/matrix.py\u001b[0m in \u001b[0;36mheatmap\u001b[0;34m(data, vmin, vmax, cmap, center, robust, annot, fmt, annot_kws, linewidths, linecolor, cbar, cbar_kws, cbar_ax, square, xticklabels, yticklabels, mask, ax, **kwargs)\u001b[0m\n\u001b[1;32m    535\u001b[0m     plotter = _HeatMapper(data, vmin, vmax, cmap, center, robust, annot, fmt,\n\u001b[1;32m    536\u001b[0m                           \u001b[0mannot_kws\u001b[0m\u001b[0;34m,\u001b[0m \u001b[0mcbar\u001b[0m\u001b[0;34m,\u001b[0m \u001b[0mcbar_kws\u001b[0m\u001b[0;34m,\u001b[0m \u001b[0mxticklabels\u001b[0m\u001b[0;34m,\u001b[0m\u001b[0;34m\u001b[0m\u001b[0;34m\u001b[0m\u001b[0m\n\u001b[0;32m--> 537\u001b[0;31m                           yticklabels, mask)\n\u001b[0m\u001b[1;32m    538\u001b[0m \u001b[0;34m\u001b[0m\u001b[0m\n\u001b[1;32m    539\u001b[0m     \u001b[0;31m# Add the pcolormesh kwargs here\u001b[0m\u001b[0;34m\u001b[0m\u001b[0;34m\u001b[0m\u001b[0;34m\u001b[0m\u001b[0m\n",
            "\u001b[0;32m/usr/local/lib/python3.6/dist-packages/seaborn/matrix.py\u001b[0m in \u001b[0;36m__init__\u001b[0;34m(self, data, vmin, vmax, cmap, center, robust, annot, fmt, annot_kws, cbar, cbar_kws, xticklabels, yticklabels, mask)\u001b[0m\n\u001b[1;32m    163\u001b[0m         \u001b[0;31m# Determine good default values for the colormapping\u001b[0m\u001b[0;34m\u001b[0m\u001b[0;34m\u001b[0m\u001b[0;34m\u001b[0m\u001b[0m\n\u001b[1;32m    164\u001b[0m         self._determine_cmap_params(plot_data, vmin, vmax,\n\u001b[0;32m--> 165\u001b[0;31m                                     cmap, center, robust)\n\u001b[0m\u001b[1;32m    166\u001b[0m \u001b[0;34m\u001b[0m\u001b[0m\n\u001b[1;32m    167\u001b[0m         \u001b[0;31m# Sort out the annotations\u001b[0m\u001b[0;34m\u001b[0m\u001b[0;34m\u001b[0m\u001b[0;34m\u001b[0m\u001b[0m\n",
            "\u001b[0;32m/usr/local/lib/python3.6/dist-packages/seaborn/matrix.py\u001b[0m in \u001b[0;36m_determine_cmap_params\u001b[0;34m(self, plot_data, vmin, vmax, cmap, center, robust)\u001b[0m\n\u001b[1;32m    196\u001b[0m \u001b[0;34m\u001b[0m\u001b[0m\n\u001b[1;32m    197\u001b[0m         \u001b[0;31m# plot_data is a np.ma.array instance\u001b[0m\u001b[0;34m\u001b[0m\u001b[0;34m\u001b[0m\u001b[0;34m\u001b[0m\u001b[0m\n\u001b[0;32m--> 198\u001b[0;31m         \u001b[0mcalc_data\u001b[0m \u001b[0;34m=\u001b[0m \u001b[0mplot_data\u001b[0m\u001b[0;34m.\u001b[0m\u001b[0mfilled\u001b[0m\u001b[0;34m(\u001b[0m\u001b[0mnp\u001b[0m\u001b[0;34m.\u001b[0m\u001b[0mnan\u001b[0m\u001b[0;34m)\u001b[0m\u001b[0;34m\u001b[0m\u001b[0;34m\u001b[0m\u001b[0m\n\u001b[0m\u001b[1;32m    199\u001b[0m         \u001b[0;32mif\u001b[0m \u001b[0mvmin\u001b[0m \u001b[0;32mis\u001b[0m \u001b[0;32mNone\u001b[0m\u001b[0;34m:\u001b[0m\u001b[0;34m\u001b[0m\u001b[0;34m\u001b[0m\u001b[0m\n\u001b[1;32m    200\u001b[0m             \u001b[0;32mif\u001b[0m \u001b[0mrobust\u001b[0m\u001b[0;34m:\u001b[0m\u001b[0;34m\u001b[0m\u001b[0;34m\u001b[0m\u001b[0m\n",
            "\u001b[0;32m/usr/local/lib/python3.6/dist-packages/numpy/ma/core.py\u001b[0m in \u001b[0;36mfilled\u001b[0;34m(self, fill_value)\u001b[0m\n\u001b[1;32m   3737\u001b[0m             \u001b[0mfill_value\u001b[0m \u001b[0;34m=\u001b[0m \u001b[0mself\u001b[0m\u001b[0;34m.\u001b[0m\u001b[0mfill_value\u001b[0m\u001b[0;34m\u001b[0m\u001b[0;34m\u001b[0m\u001b[0m\n\u001b[1;32m   3738\u001b[0m         \u001b[0;32melse\u001b[0m\u001b[0;34m:\u001b[0m\u001b[0;34m\u001b[0m\u001b[0;34m\u001b[0m\u001b[0m\n\u001b[0;32m-> 3739\u001b[0;31m             \u001b[0mfill_value\u001b[0m \u001b[0;34m=\u001b[0m \u001b[0m_check_fill_value\u001b[0m\u001b[0;34m(\u001b[0m\u001b[0mfill_value\u001b[0m\u001b[0;34m,\u001b[0m \u001b[0mself\u001b[0m\u001b[0;34m.\u001b[0m\u001b[0mdtype\u001b[0m\u001b[0;34m)\u001b[0m\u001b[0;34m\u001b[0m\u001b[0;34m\u001b[0m\u001b[0m\n\u001b[0m\u001b[1;32m   3740\u001b[0m \u001b[0;34m\u001b[0m\u001b[0m\n\u001b[1;32m   3741\u001b[0m         \u001b[0;32mif\u001b[0m \u001b[0mself\u001b[0m \u001b[0;32mis\u001b[0m \u001b[0mmasked_singleton\u001b[0m\u001b[0;34m:\u001b[0m\u001b[0;34m\u001b[0m\u001b[0;34m\u001b[0m\u001b[0m\n",
            "\u001b[0;32m/usr/local/lib/python3.6/dist-packages/numpy/ma/core.py\u001b[0m in \u001b[0;36m_check_fill_value\u001b[0;34m(fill_value, ndtype)\u001b[0m\n\u001b[1;32m    477\u001b[0m                 \u001b[0;31m# that the passed fill_value is not compatible with the ndtype.\u001b[0m\u001b[0;34m\u001b[0m\u001b[0;34m\u001b[0m\u001b[0;34m\u001b[0m\u001b[0m\n\u001b[1;32m    478\u001b[0m                 \u001b[0merr_msg\u001b[0m \u001b[0;34m=\u001b[0m \u001b[0;34m\"Cannot convert fill_value %s to dtype %s\"\u001b[0m\u001b[0;34m\u001b[0m\u001b[0;34m\u001b[0m\u001b[0m\n\u001b[0;32m--> 479\u001b[0;31m                 \u001b[0;32mraise\u001b[0m \u001b[0mTypeError\u001b[0m\u001b[0;34m(\u001b[0m\u001b[0merr_msg\u001b[0m \u001b[0;34m%\u001b[0m \u001b[0;34m(\u001b[0m\u001b[0mfill_value\u001b[0m\u001b[0;34m,\u001b[0m \u001b[0mndtype\u001b[0m\u001b[0;34m)\u001b[0m\u001b[0;34m)\u001b[0m\u001b[0;34m\u001b[0m\u001b[0;34m\u001b[0m\u001b[0m\n\u001b[0m\u001b[1;32m    480\u001b[0m     \u001b[0;32mreturn\u001b[0m \u001b[0mnp\u001b[0m\u001b[0;34m.\u001b[0m\u001b[0marray\u001b[0m\u001b[0;34m(\u001b[0m\u001b[0mfill_value\u001b[0m\u001b[0;34m)\u001b[0m\u001b[0;34m\u001b[0m\u001b[0;34m\u001b[0m\u001b[0m\n\u001b[1;32m    481\u001b[0m \u001b[0;34m\u001b[0m\u001b[0m\n",
            "\u001b[0;31mTypeError\u001b[0m: Cannot convert fill_value nan to dtype int64"
          ]
        }
      ]
    },
    {
      "cell_type": "code",
      "metadata": {
        "id": "lxjXniRHcgLR",
        "colab_type": "code",
        "colab": {}
      },
      "source": [
        "# Organized into a function \n",
        "def matrix_map(info_dict, info='',n=''):\n",
        "  # info represents the info type (i.e. pmid, nctid,...)\n",
        "  # n represents the sample size for later datafram and graph naming purpose, default is 0 \n",
        "  # Get the matrix for the information \n",
        "  matrix = get_matrix(info_dict)\n",
        "  # Organize into a dataframe \n",
        "  info_df = pd.DataFrame(data=matrix, index=info_dict.keys(), columns=info_dict.keys())\n",
        "  # Full the diagnoal that represent individuals' own work with 0 \n",
        "  np.fill_diagonal(info_df.values, 0)\n",
        "  # Drop the all zero rows and columns \n",
        "  info_df = info_df.loc[:, (info_df != 0).any(axis=0)]\n",
        "  info_df = info_df[(info_df.select_dtypes(include=['number']) != 0).any(1)]\n",
        "  # Export the dict to a csv file \n",
        "  info_df.to_csv('{} connection matrix{}.csv'.format(info, n))\n",
        "  # print(info_df)\n",
        "  # Mask the lower trangle in the heatmap(won't work at colab)\n",
        "  # mask = np.zeros_like(info_df, dtype=np.int)\n",
        "  # mask[np.triu_indices_from(mask)] = True\n",
        "  # sns.heatmap(info_df, mask=mask, annot=True, fmt=\"d\", cmap=\"YlGnBu\")\n",
        "  fig, ax = plt.subplots(figsize=(100,100))  \n",
        "  sns.heatmap(info_df, annot=True, fmt=\"d\", cmap=\"YlGnBu\")\n",
        "  # fortmat the graph \n",
        "  plt.title('{} connection heatmap{}'.format(info, n), fontsize = 20) # title with fontsize 20\n",
        "  plt.xlabel('Individual Full Name', fontsize = 10) # x-axis label with fontsize 15\n",
        "  plt.ylabel('Individual Full Name', fontsize = 10) # y-axis label with fontsize 15\n",
        "  # Save the heatmap \n",
        "  plt.savefig('{} connection heatmap{}.png'.format(info, n))\n",
        "  return info_df"
      ],
      "execution_count": 0,
      "outputs": []
    },
    {
      "cell_type": "code",
      "metadata": {
        "id": "6X1m9e6vcgLT",
        "colab_type": "code",
        "colab": {
          "base_uri": "https://localhost:8080/",
          "height": 751
        },
        "outputId": "ff33fa08-1faa-412a-9168-3c3efb391693"
      },
      "source": [
        "# Test for the function \n",
        "matrix_map(pmids, 'Test pmids')"
      ],
      "execution_count": 21,
      "outputs": [
        {
          "output_type": "execute_result",
          "data": {
            "text/html": [
              "<div>\n",
              "<style scoped>\n",
              "    .dataframe tbody tr th:only-of-type {\n",
              "        vertical-align: middle;\n",
              "    }\n",
              "\n",
              "    .dataframe tbody tr th {\n",
              "        vertical-align: top;\n",
              "    }\n",
              "\n",
              "    .dataframe thead th {\n",
              "        text-align: right;\n",
              "    }\n",
              "</style>\n",
              "<table border=\"1\" class=\"dataframe\">\n",
              "  <thead>\n",
              "    <tr style=\"text-align: right;\">\n",
              "      <th></th>\n",
              "      <th>Rakesh Joshi</th>\n",
              "      <th>Yu Shrike Zhang</th>\n",
              "      <th>Yujuan Zhang</th>\n",
              "    </tr>\n",
              "  </thead>\n",
              "  <tbody>\n",
              "    <tr>\n",
              "      <th>Rakesh Joshi</th>\n",
              "      <td>0</td>\n",
              "      <td>1</td>\n",
              "      <td>5</td>\n",
              "    </tr>\n",
              "    <tr>\n",
              "      <th>Yu Shrike Zhang</th>\n",
              "      <td>1</td>\n",
              "      <td>0</td>\n",
              "      <td>1</td>\n",
              "    </tr>\n",
              "    <tr>\n",
              "      <th>Yujuan Zhang</th>\n",
              "      <td>5</td>\n",
              "      <td>1</td>\n",
              "      <td>0</td>\n",
              "    </tr>\n",
              "  </tbody>\n",
              "</table>\n",
              "</div>"
            ],
            "text/plain": [
              "                 Rakesh Joshi  Yu Shrike Zhang  Yujuan Zhang\n",
              "Rakesh Joshi                0                1             5\n",
              "Yu Shrike Zhang             1                0             1\n",
              "Yujuan Zhang                5                1             0"
            ]
          },
          "metadata": {
            "tags": []
          },
          "execution_count": 21
        },
        {
          "output_type": "display_data",
          "data": {
            "image/png": "[encoded data removed]",
            "text/plain": [
              "<Figure size 720x720 with 2 Axes>"
            ]
          },
          "metadata": {
            "tags": [],
            "needs_background": "light"
          }
        }
      ]
    }
  ]
}